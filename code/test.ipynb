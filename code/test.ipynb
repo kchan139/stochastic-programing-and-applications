{
 "cells": [
  {
   "cell_type": "code",
   "execution_count": 1,
   "metadata": {},
   "outputs": [],
   "source": [
    "from problem_1 import *"
   ]
  },
  {
   "cell_type": "code",
   "execution_count": 4,
   "metadata": {},
   "outputs": [],
   "source": [
    "n   = 8           # number of products\n",
    "S   = 2           # number of scenarios\n",
    "p_s = [0.5, 0.5]  # probability of each scenario / density\n",
    "m   = 5           # number of parts to be ordered\n",
    "\n",
    "D = np.array([binomial (10, 0.5, n),\n",
    "                binomial (10, 0.5, n)]) # demand for each product in each scenario matrix [n x S]\n",
    "\n",
    "b = randint (5, 10, m) # preorder cost for each part\n",
    "\n",
    "A = []\n",
    "for i in range(n):\n",
    "    A.append(np.array(randint(1,10,m)))\n",
    "\n",
    "A = np.array(A)"
   ]
  },
  {
   "cell_type": "code",
   "execution_count": 5,
   "metadata": {},
   "outputs": [
    {
     "data": {
      "text/plain": [
       "array([[3, 5, 4, 5, 9],\n",
       "       [8, 5, 7, 3, 6],\n",
       "       [7, 2, 3, 9, 4],\n",
       "       [2, 8, 2, 3, 4],\n",
       "       [1, 1, 8, 2, 3],\n",
       "       [3, 9, 3, 9, 2],\n",
       "       [4, 1, 5, 6, 6],\n",
       "       [9, 6, 9, 2, 3]])"
      ]
     },
     "execution_count": 5,
     "metadata": {},
     "output_type": "execute_result"
    }
   ],
   "source": [
    "A"
   ]
  },
  {
   "cell_type": "code",
   "execution_count": 7,
   "metadata": {},
   "outputs": [],
   "source": [
    "s = randint (1, 10, m)       # salvage values\n",
    "l = randint (100, 200, n)    # additional costs\n",
    "q = randint (1000, 1400, n)  # unit selling prices\n",
    "\n",
    "c = l - q #cost coefficients"
   ]
  },
  {
   "cell_type": "code",
   "execution_count": null,
   "metadata": {},
   "outputs": [],
   "source": []
  }
 ],
 "metadata": {
  "kernelspec": {
   "display_name": "gamspy",
   "language": "python",
   "name": "python3"
  },
  "language_info": {
   "codemirror_mode": {
    "name": "ipython",
    "version": 3
   },
   "file_extension": ".py",
   "mimetype": "text/x-python",
   "name": "python",
   "nbconvert_exporter": "python",
   "pygments_lexer": "ipython3",
   "version": "3.12.0"
  }
 },
 "nbformat": 4,
 "nbformat_minor": 2
}
