{
 "cells": [
  {
   "cell_type": "code",
   "execution_count": null,
   "metadata": {},
   "outputs": [],
   "source": [
    "import pandas as pd\n",
    "import numpy as np\n",
    "from pulp import *"
   ]
  },
  {
   "cell_type": "code",
   "execution_count": null,
   "metadata": {},
   "outputs": [],
   "source": [
    "def binomial (n, p, size):\n",
    "    \"\"\"\n",
    "    Generate random numbers following a binomial distribution.\n",
    "\n",
    "    Parameters:\n",
    "    - n:    Number of trials (number of times an event is repeated).\n",
    "    - p:    Probability of success for each trial.\n",
    "    - size: Number of times to repeat the binomial experiment.\n",
    "\n",
    "    Returns:\n",
    "    - An array of random numbers representing the number of successes in each experiment.\n",
    "    \"\"\"\n",
    "    return np.random.binomial(n, p, size)\n",
    "\n",
    "def randint (low, high, size):\n",
    "    \"\"\"\n",
    "    Generate random integers from a discrete uniform distribution.\n",
    "\n",
    "    Parameters:\n",
    "    - low:  The minimum (inclusive) value of the range.\n",
    "    - high: The maximum (exclusive) value of the range.\n",
    "    - size: The number of random integers to generate.\n",
    "\n",
    "    Returns:\n",
    "    - An array of random integers within the specified range.\n",
    "    \"\"\"\n",
    "    return np.random.randint (low, high, size)"
   ]
  },
  {
   "cell_type": "markdown",
   "metadata": {},
   "source": [
    "# QUESTION 1\n",
    "There are n products to be produced $\\newline$\n",
    "There are m suppliers which provide the parts to produce the products $\\newline$\n",
    "A product i needs $a_{ij}$ parts ($a_{ij >= 0}$, $i = 1\\rightarrow n$, $j=1\\rightarrow m $) $\\newline$\n",
    "The preorder cost for part $j$ is $b_j$ $\\newline$ \n",
    "The demand for the products is random vector $D = (D_1,..., D_n)$ $\\newline$\n",
    "Cost additionaly $l_i$ to satisfy a unit of demand for product $i$, and unit selling price of that unit is $q_i$ $\\newline$\n",
    "The number of parts ordered is $x_j$, the number of units produced is $z_i$, the numbers of remaining parts unused is $y_j$\n"
   ]
  },
  {
   "cell_type": "markdown",
   "metadata": {},
   "source": [
    "### Second stage\n",
    "The second stage is mentioned first to emphasize the importance of understanding the uncertainty in case of solving a stochastic problem. This approach aligns with the principles of stochastic programming, where the second-stage decisions are made after observing the realization of random data and are contingent on the first-stage decisions. $\\newline$\n",
    "In this stage, we want to minimize the cost of production. Specifically, we need to find the optimal cost of filling an additional portion of demand while reselling the salvage parts to minimize the loss of not using the parts. $\\newline$\n",
    "$$ \n",
    "min_{x,y} \\text { } Z=\\sum^n_{i=1} (l_i-q_i)z_i - \\sum^m_{j=1}s_jy_j \\newline \\text {subject to} \\newline\n",
    "y_j=x_j- \\sum_{i=1}^n a_{ij}z_i, j=1,...,m \\newline\n",
    "0 \\leq z_i \\leq d_i, i=1,...,n \\newline\n",
    "y_j \\geq 0, j=1,...,m\n",
    "$$"
   ]
  },
  {
   "cell_type": "markdown",
   "metadata": {},
   "source": [
    "### First stage\n",
    "In this stage, $x$ needs to be decided before a realization of the demand $D$, which makes it a $\\textit {here and now}$ decisions $\\newline$\n",
    "Moreover, the expected value of $Z$ should also be taken into account. To be specific, that is the optimal value $Q(x)$ of the second stage ($Q(x) = E[Z(z,y)]$) $\\newline$\n",
    "Therefore, we yield this problem below: \n",
    "$$min \\text { } g(x,y,z) = b^Tx + Q(x) = b^Tx + E[Z(z,y)]$$\n",
    "However, the demand is not known to solve for the optimal value of Q(x).\n"
   ]
  },
  {
   "cell_type": "markdown",
   "metadata": {},
   "source": [
    "### Big problem\n",
    "We need to solve this\n",
    "$$\n",
    "min \\text { } b^Tx + \\sum^S_{i=1} p_s[(l_i-q_i)^Tz_i - s^T_iy_i] \\newline\n",
    "\\text {subject to} \\newline\n",
    "y \\geq 0 \\newline\n",
    "0 \\leq z \\leq d \\newline\n",
    "x \\geq 0 \\newline\n",
    "$$"
   ]
  },
  {
   "cell_type": "markdown",
   "metadata": {},
   "source": [
    "### Initiating parameters"
   ]
  },
  {
   "cell_type": "code",
   "execution_count": null,
   "metadata": {},
   "outputs": [],
   "source": [
    "n   = 8           # number of products\n",
    "m   = 5           # number of parts to be ordered\n",
    "S   = 2           # number of scenarios\n",
    "p_s = [0.5, 0.5]  # probability of each scenario / density\n",
    "\n",
    "# D = np.array([binomial (10, 0.5, n),\n",
    "#               binomial (10, 0.5, n)]) # demand for each product in each scenario matrix [n x S]\n",
    "\n",
    "b = randint(50, 100, m) # preorder cost for each part\n",
    "\n",
    "A = []\n",
    "for i in range(n):\n",
    "    A.append(np.array(randint(1,10,m)))\n",
    "\n",
    "A = np.array(A) # bill of materials matrix [m x n]\n",
    "\n",
    "s = randint (100, 200, m)       # salvage values\n",
    "l = randint (150, 250, n)    # additional costs\n",
    "q = randint (200, 400, n)  # unit selling prices\n",
    "\n",
    "c = l-q #cost coefficients"
   ]
  },
  {
   "cell_type": "code",
   "execution_count": null,
   "metadata": {},
   "outputs": [],
   "source": [
    "print('Preorder cost: ', b)\n",
    "print('Material usage:\\n', A)\n",
    "print('Salvage value: ', s)\n",
    "print('Additional producing cost: ', l)\n",
    "print('Selling prices: ', q)\n",
    "print('Cost coefficient:', c)\n",
    "# print('Demand:\\n', D)"
   ]
  }
 ],
 "metadata": {
  "kernelspec": {
   "display_name": "gamspy",
   "language": "python",
   "name": "python3"
  },
  "language_info": {
   "codemirror_mode": {
    "name": "ipython",
    "version": 3
   },
   "file_extension": ".py",
   "mimetype": "text/x-python",
   "name": "python",
   "nbconvert_exporter": "python",
   "pygments_lexer": "ipython3",
   "version": "3.12.0"
  }
 },
 "nbformat": 4,
 "nbformat_minor": 2
}
