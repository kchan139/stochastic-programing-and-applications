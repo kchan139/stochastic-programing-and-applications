{
 "cells": [
  {
   "cell_type": "code",
   "execution_count": 1,
   "metadata": {},
   "outputs": [],
   "source": [
    "import pandas as pd\n",
    "import numpy as np"
   ]
  },
  {
   "cell_type": "code",
   "execution_count": null,
   "metadata": {},
   "outputs": [],
   "source": [
    "def binomial (n, p, size):\n",
    "    \"\"\"\n",
    "    Generate random numbers following a binomial distribution.\n",
    "\n",
    "    Parameters:\n",
    "    - n:    Number of trials (number of times an event is repeated).\n",
    "    - p:    Probability of success for each trial.\n",
    "    - size: Number of times to repeat the binomial experiment.\n",
    "\n",
    "    Returns:\n",
    "    - An array of random numbers representing the number of successes in each experiment.\n",
    "    \"\"\"\n",
    "    return np.random.binomial(n, p, size)\n",
    "\n",
    "def randint (low, high, size):\n",
    "    \"\"\"\n",
    "    Generate random integers from a discrete uniform distribution.\n",
    "\n",
    "    Parameters:\n",
    "    - low:  The minimum (inclusive) value of the range.\n",
    "    - high: The maximum (exclusive) value of the range.\n",
    "    - size: The number of random integers to generate.\n",
    "\n",
    "    Returns:\n",
    "    - An array of random integers within the specified range.\n",
    "    \"\"\"\n",
    "    return np.random.randint (low, high, size)"
   ]
  },
  {
   "cell_type": "markdown",
   "metadata": {},
   "source": [
    "# QUESTION 1\n",
    "There are n products to be produced $\\newline$\n",
    "There are m suppliers which provide the parts to produce the products $\\newline$\n",
    "A product i needs $a_{ij}$ parts ($a_{ij >= 0}$, $i = 1\\rightarrow n$, $j=1\\rightarrow m $) $\\newline$\n",
    "The preorder cost for part $j$ is $b_j$ $\\newline$ \n",
    "The demand for the products is random vector $D = (D_1,..., D_n)$ $\\newline$\n",
    "Cost additionaly $l_i$ to satisfy a unit of demand for product $i$, and unit selling price of that unit is $q_i$ $\\newline$\n",
    "The number of parts ordered is $x_j$, the number of units produced is $z_i$, the numbers of remaining parts unused is $y_j$\n"
   ]
  },
  {
   "cell_type": "markdown",
   "metadata": {},
   "source": [
    "### First stage"
   ]
  },
  {
   "cell_type": "code",
   "execution_count": null,
   "metadata": {},
   "outputs": [],
   "source": [
    "n   = 8           # number of products\n",
    "m   = 5           # number of parts to be ordered\n",
    "S   = 2           # number of scenarios\n",
    "p_s = [0.5, 0.5]  # probability of each scenario / density\n",
    "\n",
    "D = np.array([binomial (10, 0.5, n),\n",
    "              binomial (10, 0.5, n)]) # demand for each product in each scenario matrix [n x S]\n",
    "\n",
    "b = randint(5, 10, m) # preorder cost for each part\n",
    "\n",
    "A = []\n",
    "for i in range(n):\n",
    "    A.append(np.array(randint(1,10,m)))\n",
    "\n",
    "A = np.array(A) # bill of materials matrix [m x n]\n",
    "\n",
    "s = randint (1, 10, m)       # salvage values\n",
    "l = randint (100, 200, n)    # additional costs\n",
    "q = randint (1000, 1400, n)  # unit selling prices\n",
    "\n",
    "c = l - q #cost coefficients"
   ]
  }
 ],
 "metadata": {
  "kernelspec": {
   "display_name": "gamspy",
   "language": "python",
   "name": "python3"
  },
  "language_info": {
   "codemirror_mode": {
    "name": "ipython",
    "version": 3
   },
   "file_extension": ".py",
   "mimetype": "text/x-python",
   "name": "python",
   "nbconvert_exporter": "python",
   "pygments_lexer": "ipython3",
   "version": "3.12.0"
  }
 },
 "nbformat": 4,
 "nbformat_minor": 2
}
